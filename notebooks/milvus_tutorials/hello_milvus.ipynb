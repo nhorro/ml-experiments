{
 "cells": [
  {
   "cell_type": "markdown",
   "id": "4035b815-bdc0-4aba-bdec-9cd098ba1ccf",
   "metadata": {},
   "source": [
    "# Prueba de Milvus\n",
    "\n",
    "Ejemplo de uso de Milvus siguiendo pasos del sitio oficial.\n",
    "\n",
    "**Referencias**\n",
    "\n",
    "- https://milvus.io/docs/example_code.md"
   ]
  },
  {
   "cell_type": "code",
   "execution_count": 1,
   "id": "107d4d16-609b-4c52-82e5-f186721b7eaa",
   "metadata": {},
   "outputs": [],
   "source": [
    "#!pip3 install protobuf==3.20.0\n",
    "#!pip3 install grpcio-tools\n",
    "#!pip install pymilvus"
   ]
  },
  {
   "cell_type": "code",
   "execution_count": 2,
   "id": "52adf45c-5577-4957-b548-502d02b55fd4",
   "metadata": {},
   "outputs": [],
   "source": [
    "from pymilvus import (\n",
    "    connections,\n",
    "    utility,\n",
    "    FieldSchema,\n",
    "    CollectionSchema,\n",
    "    DataType,\n",
    "    Collection,\n",
    ")"
   ]
  },
  {
   "cell_type": "code",
   "execution_count": 3,
   "id": "ea2a7cfc-797d-4433-bc6e-00cdfc82e6a8",
   "metadata": {},
   "outputs": [],
   "source": [
    "connections.connect(\"default\", host=\"localhost\", port=\"19530\")"
   ]
  },
  {
   "cell_type": "markdown",
   "id": "8757d802-f576-4697-85d4-73bb49cb293e",
   "metadata": {},
   "source": [
    "Crear una colección."
   ]
  },
  {
   "cell_type": "code",
   "execution_count": 4,
   "id": "7269c16a-3c7d-46cc-bda2-7fd4dcd08511",
   "metadata": {},
   "outputs": [],
   "source": [
    "fields = [\n",
    "    FieldSchema(name=\"pk\", dtype=DataType.INT64, is_primary=True, auto_id=False),\n",
    "    FieldSchema(name=\"random\", dtype=DataType.DOUBLE),\n",
    "    FieldSchema(name=\"embeddings\", dtype=DataType.FLOAT_VECTOR, dim=8)\n",
    "]\n",
    "schema = CollectionSchema(fields, \"hello_milvus is the simplest demo to introduce the APIs\")\n",
    "hello_milvus = Collection(\"hello_milvus\", schema)"
   ]
  },
  {
   "cell_type": "markdown",
   "id": "323e7bbb-1dc6-46bc-94c1-3aa1b98ef021",
   "metadata": {},
   "source": [
    "Insertar vectores en una colección."
   ]
  },
  {
   "cell_type": "code",
   "execution_count": 5,
   "id": "32978b4a-5d85-4e70-bd47-0095c8c59149",
   "metadata": {},
   "outputs": [],
   "source": [
    "import random\n",
    "entities = [\n",
    "    [i for i in range(3000)],  # field pk\n",
    "    [float(random.randrange(-20, -10)) for _ in range(3000)],  # field random\n",
    "    [[random.random() for _ in range(8)] for _ in range(3000)],  # field embeddings\n",
    "]\n",
    "\n",
    "insert_result = hello_milvus.insert(entities)"
   ]
  },
  {
   "cell_type": "markdown",
   "id": "55220dc6-f441-4761-b418-ead5f2a1262a",
   "metadata": {},
   "source": [
    "Indexar embeddings."
   ]
  },
  {
   "cell_type": "code",
   "execution_count": 6,
   "id": "de860fbe-ff31-4f0b-9c0e-68f2cb5285e3",
   "metadata": {},
   "outputs": [
    {
     "data": {
      "text/plain": [
       "Status(code=0, message='')"
      ]
     },
     "execution_count": 6,
     "metadata": {},
     "output_type": "execute_result"
    }
   ],
   "source": [
    "index = {\n",
    "    \"index_type\": \"IVF_FLAT\",\n",
    "    \"metric_type\": \"L2\",\n",
    "    \"params\": {\"nlist\": 128},\n",
    "}\n",
    "hello_milvus.create_index(\"embeddings\", index)\n"
   ]
  },
  {
   "cell_type": "markdown",
   "id": "9712a410-f69e-42ca-9aa7-780bc342f11d",
   "metadata": {},
   "source": [
    "Cargar colección en memoria para hacer búsqueda por similaridad (cómo escala para muchas imágenes?)"
   ]
  },
  {
   "cell_type": "code",
   "execution_count": 7,
   "id": "b89d22a6-2f28-48bc-8c1b-382e00484af8",
   "metadata": {},
   "outputs": [],
   "source": [
    "hello_milvus.load()"
   ]
  },
  {
   "cell_type": "code",
   "execution_count": 8,
   "id": "18534416-90f9-4b6b-b3ff-35ceb0781789",
   "metadata": {},
   "outputs": [
    {
     "name": "stdout",
     "output_type": "stream",
     "text": [
      "['(distance: 0.0, id: 2998)', '(distance: 0.09056773781776428, id: 211)', '(distance: 0.11295150220394135, id: 2087)']\n",
      "['(distance: 0.0, id: 2999)', '(distance: 0.17350970208644867, id: 734)', '(distance: 0.17697687447071075, id: 788)']\n"
     ]
    }
   ],
   "source": [
    "vectors_to_search = entities[-1][-2:]\n",
    "search_params = {\n",
    "    \"metric_type\": \"L2\",\n",
    "    \"params\": {\"nprobe\": 10},\n",
    "}\n",
    "result = hello_milvus.search(vectors_to_search, \"embeddings\", search_params, limit=3, output_fields=[\"random\"])\n",
    "for r in result:\n",
    "    print(r)"
   ]
  },
  {
   "cell_type": "markdown",
   "id": "177341fe-429e-433d-873e-7f62cf77b58f",
   "metadata": {},
   "source": [
    "Query por criterio \"clásico\"."
   ]
  },
  {
   "cell_type": "code",
   "execution_count": 9,
   "id": "a254be00-b237-4f1c-9c21-e301d35012ff",
   "metadata": {},
   "outputs": [],
   "source": [
    "result = hello_milvus.query(expr=\"random > -14\", output_fields=[\"random\", \"embeddings\"])\n",
    "#result"
   ]
  },
  {
   "cell_type": "markdown",
   "id": "b34f4743-61c8-4685-a40e-1b63f283368f",
   "metadata": {},
   "source": [
    "Query híbrida. Se agrega al anterior criterios de búsqueda por similaridad del ejemplo previo."
   ]
  },
  {
   "cell_type": "code",
   "execution_count": 10,
   "id": "98df7662-c6eb-46d0-9978-45a8455de0b8",
   "metadata": {},
   "outputs": [
    {
     "data": {
      "text/plain": [
       "<pymilvus.orm.search.SearchResult at 0x7f9c308091f0>"
      ]
     },
     "execution_count": 10,
     "metadata": {},
     "output_type": "execute_result"
    }
   ],
   "source": [
    "result = hello_milvus.search(vectors_to_search, \"embeddings\", search_params, limit=3, expr=\"random > -12\", output_fields=[\"random\"])\n",
    "result"
   ]
  },
  {
   "cell_type": "markdown",
   "id": "ad5be132-7e9e-46cc-bd42-5c51a2762957",
   "metadata": {},
   "source": [
    "Borrar la colección."
   ]
  },
  {
   "cell_type": "code",
   "execution_count": 11,
   "id": "68a17156-bf0b-43ae-944c-b8de5855ad39",
   "metadata": {},
   "outputs": [],
   "source": [
    "utility.drop_collection(\"hello_milvus\")"
   ]
  }
 ],
 "metadata": {
  "kernelspec": {
   "display_name": "Python 3 (ipykernel)",
   "language": "python",
   "name": "python3"
  },
  "language_info": {
   "codemirror_mode": {
    "name": "ipython",
    "version": 3
   },
   "file_extension": ".py",
   "mimetype": "text/x-python",
   "name": "python",
   "nbconvert_exporter": "python",
   "pygments_lexer": "ipython3",
   "version": "3.9.13"
  }
 },
 "nbformat": 4,
 "nbformat_minor": 5
}
