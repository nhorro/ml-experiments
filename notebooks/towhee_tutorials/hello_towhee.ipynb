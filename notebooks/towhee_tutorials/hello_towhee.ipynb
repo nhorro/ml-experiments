{
 "cells": [
  {
   "cell_type": "markdown",
   "id": "ef4130ed-f9ea-42a8-a2ae-d2065dab03d0",
   "metadata": {},
   "source": [
    "# Primeros pasos con Towhee\n",
    "\n",
    "**Referencias**\n",
    "\n",
    "- [Quick start](https://docs.towhee.io/Getting%20Started/quick-start/)"
   ]
  },
  {
   "cell_type": "code",
   "execution_count": 1,
   "id": "9c59ad82-c085-41fc-9885-4b1c6b926742",
   "metadata": {},
   "outputs": [],
   "source": [
    "from towhee import pipeline"
   ]
  },
  {
   "cell_type": "code",
   "execution_count": 2,
   "id": "25e86eb9-8dc6-4d5f-b3f6-4be62326b8b1",
   "metadata": {},
   "outputs": [],
   "source": [
    "p = pipeline('image-embedding')"
   ]
  },
  {
   "cell_type": "code",
   "execution_count": 5,
   "id": "78a77a1e-d1ad-4cc4-b7be-65a161fcbc2a",
   "metadata": {},
   "outputs": [
    {
     "name": "stdout",
     "output_type": "stream",
     "text": [
      "--2022-10-01 10:42:50--  https://upload.wikimedia.org/wikipedia/commons/6/69/Spotted_Towhee.jpg\n",
      "Resolving upload.wikimedia.org (upload.wikimedia.org)... 208.80.154.240, 2620:0:861:ed1a::2:b\n",
      "Connecting to upload.wikimedia.org (upload.wikimedia.org)|208.80.154.240|:443... connected.\n",
      "HTTP request sent, awaiting response... 200 OK\n",
      "Length: 398508 (389K) [image/jpeg]\n",
      "Saving to: ‘Spotted_Towhee.jpg’\n",
      "\n",
      "Spotted_Towhee.jpg  100%[===================>] 389,17K   494KB/s    in 0,8s    \n",
      "\n",
      "2022-10-01 10:42:52 (494 KB/s) - ‘Spotted_Towhee.jpg’ saved [398508/398508]\n",
      "\n"
     ]
    }
   ],
   "source": [
    "!wget https://upload.wikimedia.org/wikipedia/commons/6/69/Spotted_Towhee.jpg"
   ]
  },
  {
   "cell_type": "code",
   "execution_count": 6,
   "id": "e9b7b080-331f-4b21-997b-7374251ad62c",
   "metadata": {},
   "outputs": [
    {
     "data": {
      "text/plain": [
       "array([0.02694035, 0.00933778, 0.02325527, ..., 0.3344982 , 0.2982196 ,\n",
       "       0.        ], dtype=float32)"
      ]
     },
     "execution_count": 6,
     "metadata": {},
     "output_type": "execute_result"
    }
   ],
   "source": [
    "output = p('Spotted_Towhee.jpg')\n",
    "output"
   ]
  },
  {
   "cell_type": "code",
   "execution_count": 8,
   "id": "255edff7-4742-43d7-bc93-2afff5ea2e45",
   "metadata": {},
   "outputs": [
    {
     "data": {
      "text/plain": [
       "[0, 7, 14, 21, 28, 35, 42, 49, 56, 63, 70, 77, 84, 91, 98]"
      ]
     },
     "execution_count": 8,
     "metadata": {},
     "output_type": "execute_result"
    }
   ],
   "source": [
    "from towhee.functional import DataCollection\n",
    "\n",
    "DataCollection.range(100).filter(lambda x: x % 7 == 0).to_list()"
   ]
  },
  {
   "cell_type": "code",
   "execution_count": 9,
   "id": "4e624bfa-2af6-40e2-bd3d-6bba8aaf588c",
   "metadata": {},
   "outputs": [],
   "source": [
    "quit()"
   ]
  }
 ],
 "metadata": {
  "kernelspec": {
   "display_name": "Python 3 (ipykernel)",
   "language": "python",
   "name": "python3"
  },
  "language_info": {
   "codemirror_mode": {
    "name": "ipython",
    "version": 3
   },
   "file_extension": ".py",
   "mimetype": "text/x-python",
   "name": "python",
   "nbconvert_exporter": "python",
   "pygments_lexer": "ipython3",
   "version": "3.9.13"
  }
 },
 "nbformat": 4,
 "nbformat_minor": 5
}
